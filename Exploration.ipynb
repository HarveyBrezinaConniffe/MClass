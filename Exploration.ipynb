{
 "cells": [
  {
   "cell_type": "code",
   "execution_count": 1,
   "metadata": {},
   "outputs": [
    {
     "name": "stderr",
     "output_type": "stream",
     "text": [
      "/home/harvey/tf-env/lib/python3.6/site-packages/tensorflow_addons/utils/ensure_tf_install.py:68: UserWarning: Tensorflow Addons supports using Python ops for all Tensorflow versions above or equal to 2.2.0 and strictly below 2.3.0 (nightly versions are not supported). \n",
      " The versions of TensorFlow you are currently using is 2.3.0 and is not supported. \n",
      "Some things might work, some things might not.\n",
      "If you were to encounter a bug, do not file an issue.\n",
      "If you want to make sure you're using a tested and supported configuration, either change the TensorFlow version or the TensorFlow Addons's version. \n",
      "You can find the compatibility matrix in TensorFlow Addon's readme:\n",
      "https://github.com/tensorflow/addons\n",
      "  UserWarning,\n"
     ]
    },
    {
     "name": "stdout",
     "output_type": "stream",
     "text": [
      "INFO:tensorflow:Mixed precision compatibility check (mixed_float16): OK\n",
      "Your GPU will likely run quickly with dtype policy mixed_float16 as it has compute capability of at least 7.0. Your GPU: GeForce RTX 2070 Super, compute capability 7.5\n"
     ]
    }
   ],
   "source": [
    "import tensorflow as tf\n",
    "import csv\n",
    "import numpy as np\n",
    "from PIL import Image\n",
    "from matplotlib.pyplot import imshow\n",
    "from tensorflow.compat.v1 import ConfigProto\n",
    "from tensorflow.compat.v1 import InteractiveSession\n",
    "import tensorflow_addons as tfa\n",
    "\n",
    "config = ConfigProto()\n",
    "config.gpu_options.allow_growth = True\n",
    "session = InteractiveSession(config=config)\n",
    "\n",
    "from tensorflow.keras.mixed_precision import experimental as mixed_precision\n",
    "policy = mixed_precision.Policy('mixed_float16')\n",
    "mixed_precision.set_policy(policy)"
   ]
  },
  {
   "cell_type": "code",
   "execution_count": 2,
   "metadata": {},
   "outputs": [
    {
     "name": "stdout",
     "output_type": "stream",
     "text": [
      "['records/train10-2071.tfrec', 'records/train12-2071.tfrec', 'records/train11-2071.tfrec', 'records/train06-2071.tfrec', 'records/train03-2071.tfrec', 'records/train02-2071.tfrec', 'records/train05-2071.tfrec', 'records/train13-2071.tfrec', 'records/train01-2071.tfrec', 'records/train15-2061.tfrec', 'records/train14-2071.tfrec', 'records/train07-2071.tfrec', 'records/train00-2071.tfrec', 'records/train08-2071.tfrec', 'records/train04-2071.tfrec', 'records/train09-2071.tfrec']\n"
     ]
    }
   ],
   "source": [
    "records = []\n",
    "from os import walk\n",
    "for (dirpath, dirnames, filenames) in walk(\"records/\"):\n",
    "    for f in filenames:\n",
    "        if \"train\" in f:\n",
    "            records.append(\"records/{}\".format(f))\n",
    "\n",
    "print(records)"
   ]
  },
  {
   "cell_type": "code",
   "execution_count": 3,
   "metadata": {},
   "outputs": [],
   "source": [
    "dataset = tf.data.TFRecordDataset(filenames = records)"
   ]
  },
  {
   "cell_type": "code",
   "execution_count": 4,
   "metadata": {},
   "outputs": [],
   "source": [
    "feature_description = {\n",
    "    'image': tf.io.FixedLenFeature([], tf.string),\n",
    "    'image_name': tf.io.FixedLenFeature([], tf.string),\n",
    "    'target': tf.io.FixedLenFeature([], tf.int64),\n",
    "}"
   ]
  },
  {
   "cell_type": "code",
   "execution_count": 5,
   "metadata": {},
   "outputs": [],
   "source": [
    "IMG_SIZE = 128\n",
    "\n",
    "@tf.function\n",
    "def toPairs(inp):\n",
    "    example = tf.io.parse_single_example(inp, feature_description)\n",
    "    img = tf.io.decode_image(example['image'], expand_animations = False, channels=3)\n",
    "    img = tf.cast(img, tf.float32)\n",
    "    img = (img/127.5) - 1\n",
    "    img = tf.image.resize(img, (IMG_SIZE, IMG_SIZE))\n",
    "    \n",
    "    label = example['target']\n",
    "\n",
    "    return img, label"
   ]
  },
  {
   "cell_type": "code",
   "execution_count": 6,
   "metadata": {},
   "outputs": [],
   "source": [
    "alldata = dataset.map(toPairs)"
   ]
  },
  {
   "cell_type": "code",
   "execution_count": 7,
   "metadata": {},
   "outputs": [],
   "source": [
    "total = 33126\n",
    "#for i in iter(alldata):\n",
    "#    total += 1\n",
    "#print(\"{} images in total.\".format(total))"
   ]
  },
  {
   "cell_type": "code",
   "execution_count": 8,
   "metadata": {},
   "outputs": [],
   "source": [
    "train = 0.66\n",
    "val = 0.33\n",
    "\n",
    "train_data = alldata.take(int(total*train))\n",
    "leftover = alldata.skip(int(total*train))\n",
    "val_data = leftover.take(int(total*val))"
   ]
  },
  {
   "cell_type": "code",
   "execution_count": 9,
   "metadata": {},
   "outputs": [],
   "source": [
    "BATCH_SIZE = 512\n",
    "train_batches = train_data.batch(BATCH_SIZE)\n",
    "val_batches = val_data.batch(BATCH_SIZE)"
   ]
  },
  {
   "cell_type": "code",
   "execution_count": 10,
   "metadata": {},
   "outputs": [],
   "source": [
    "IMG_SHAPE = (IMG_SIZE, IMG_SIZE, 3)\n",
    "\n",
    "base_model = tf.keras.applications.InceptionV3(input_shape=IMG_SHAPE,\n",
    "                                               include_top=False,\n",
    "                                               weights='imagenet')\n",
    "\n",
    "base_model.trainable = False"
   ]
  },
  {
   "cell_type": "markdown",
   "metadata": {},
   "source": [
    "Second baseline - Transfer learning from inception"
   ]
  },
  {
   "cell_type": "code",
   "execution_count": 70,
   "metadata": {},
   "outputs": [],
   "source": [
    "img_in = tf.keras.Input(shape=(IMG_SIZE, IMG_SIZE, 3))\n",
    "\n",
    "features = base_model(img_in)\n",
    "features = tf.keras.layers.GlobalAveragePooling2D()(features)\n",
    "features = tf.keras.layers.BatchNormalization()(features)\n",
    "features = tf.keras.layers.Dropout(0.3)(features)\n",
    "\n",
    "predictor = tf.keras.layers.Dense(1, activation=\"sigmoid\")(features)\n",
    "\n",
    "model = tf.keras.Model(inputs=[img_in], outputs=predictor)"
   ]
  },
  {
   "cell_type": "markdown",
   "metadata": {},
   "source": [
    "Precision - \n",
    "How many of the melanoma that we said are bad were actually bad?\n",
    "Recall -\n",
    "How many of the bad melanoma did we catch?"
   ]
  },
  {
   "cell_type": "code",
   "execution_count": 71,
   "metadata": {},
   "outputs": [
    {
     "data": {
      "image/png": "[encoded data removed]",
      "text/plain": [
       "<IPython.core.display.Image object>"
      ]
     },
     "execution_count": 71,
     "metadata": {},
     "output_type": "execute_result"
    }
   ],
   "source": [
    "tf.keras.utils.plot_model(model)"
   ]
  },
  {
   "cell_type": "code",
   "execution_count": 72,
   "metadata": {},
   "outputs": [],
   "source": [
    "model.compile(optimizer=tf.keras.optimizers.Adam(),\n",
    "          loss=tf.keras.losses.BinaryCrossentropy(from_logits=False),\n",
    "          metrics=[\"AUC\"])"
   ]
  },
  {
   "cell_type": "code",
   "execution_count": 84,
   "metadata": {},
   "outputs": [
    {
     "name": "stdout",
     "output_type": "stream",
     "text": [
      "Epoch 1/100\n",
      "43/43 [==============================] - 443s 10s/step - loss: 0.1487 - auc: 0.5668 - val_loss: 0.0827 - val_auc: 0.6474\n",
      "Epoch 2/100\n",
      "43/43 [==============================] - 449s 10s/step - loss: 0.0959 - auc: 0.6706 - val_loss: 0.0809 - val_auc: 0.7105\n",
      "Epoch 3/100\n",
      "43/43 [==============================] - 425s 10s/step - loss: 0.0879 - auc: 0.7302 - val_loss: 0.0805 - val_auc: 0.7223\n",
      "Epoch 4/100\n",
      "43/43 [==============================] - 424s 10s/step - loss: 0.0872 - auc: 0.7359 - val_loss: 0.0795 - val_auc: 0.7311\n",
      "Epoch 5/100\n",
      "43/43 [==============================] - 426s 10s/step - loss: 0.0850 - auc: 0.7550 - val_loss: 0.0799 - val_auc: 0.7355\n",
      "Epoch 6/100\n",
      "43/43 [==============================] - 427s 10s/step - loss: 0.0820 - auc: 0.7743 - val_loss: 0.0795 - val_auc: 0.7388\n",
      "Epoch 7/100\n",
      "43/43 [==============================] - 429s 10s/step - loss: 0.0814 - auc: 0.7889 - val_loss: 0.0792 - val_auc: 0.7401\n",
      "Epoch 8/100\n",
      "43/43 [==============================] - 428s 10s/step - loss: 0.0783 - auc: 0.7955 - val_loss: 0.0793 - val_auc: 0.7359\n",
      "Epoch 9/100\n",
      "43/43 [==============================] - 448s 10s/step - loss: 0.0790 - auc: 0.7932 - val_loss: 0.0796 - val_auc: 0.7339\n",
      "Epoch 10/100\n",
      "43/43 [==============================] - ETA: 0s - loss: 0.0753 - auc: 0.8305Restoring model weights from the end of the best epoch.\n",
      "43/43 [==============================] - 437s 10s/step - loss: 0.0753 - auc: 0.8305 - val_loss: 0.0803 - val_auc: 0.7299\n",
      "Epoch 00010: early stopping\n"
     ]
    }
   ],
   "source": [
    "stopper = tf.keras.callbacks.EarlyStopping(\n",
    "    monitor=\"val_auc\",\n",
    "    patience=3,\n",
    "    verbose=1,\n",
    "    mode=\"max\",\n",
    "    restore_best_weights=True\n",
    ")\n",
    "\n",
    "hist = model.fit(train_batches, validation_data=val_batches, epochs=100, callbacks=[stopper])"
   ]
  },
  {
   "cell_type": "code",
   "execution_count": 85,
   "metadata": {},
   "outputs": [
    {
     "name": "stdout",
     "output_type": "stream",
     "text": [
      "['records/test01-687.tfrec', 'records/test02-687.tfrec', 'records/test08-687.tfrec', 'records/test09-687.tfrec', 'records/test10-687.tfrec', 'records/test15-677.tfrec', 'records/test06-687.tfrec', 'records/test04-687.tfrec', 'records/test07-687.tfrec', 'records/test14-687.tfrec', 'records/test05-687.tfrec', 'records/test11-687.tfrec', 'records/test13-687.tfrec', 'records/test00-687.tfrec', 'records/test03-687.tfrec', 'records/test12-687.tfrec']\n"
     ]
    }
   ],
   "source": [
    "test_records = []\n",
    "\n",
    "for (dirpath, dirnames, filenames) in walk(\"records/\"):\n",
    "    for f in filenames:\n",
    "        if \"test\" in f:\n",
    "            test_records.append(\"records/{}\".format(f))\n",
    "\n",
    "print(test_records)"
   ]
  },
  {
   "cell_type": "code",
   "execution_count": 86,
   "metadata": {},
   "outputs": [],
   "source": [
    "feature_description_test = {\n",
    "    'image': tf.io.FixedLenFeature([], tf.string),\n",
    "    'image_name': tf.io.FixedLenFeature([], tf.string)\n",
    "}"
   ]
  },
  {
   "cell_type": "code",
   "execution_count": 87,
   "metadata": {},
   "outputs": [],
   "source": [
    "test_dataset = tf.data.TFRecordDataset(filenames = test_records)"
   ]
  },
  {
   "cell_type": "code",
   "execution_count": 88,
   "metadata": {},
   "outputs": [],
   "source": [
    "test_names = []\n",
    "\n",
    "for inp in test_dataset:\n",
    "    example = tf.io.parse_single_example(inp, feature_description_test)\n",
    "    test_names.append(example['image_name'].numpy().decode(\"utf_8\"))"
   ]
  },
  {
   "cell_type": "code",
   "execution_count": 89,
   "metadata": {},
   "outputs": [
    {
     "data": {
      "text/plain": [
       "'ISIC_5583376'"
      ]
     },
     "execution_count": 89,
     "metadata": {},
     "output_type": "execute_result"
    }
   ],
   "source": [
    "test_names[0]"
   ]
  },
  {
   "cell_type": "code",
   "execution_count": 90,
   "metadata": {},
   "outputs": [],
   "source": [
    "@tf.function\n",
    "def toInput(inp):\n",
    "    example = tf.io.parse_single_example(inp, feature_description_test)\n",
    "        \n",
    "    img = tf.io.decode_image(example['image'], expand_animations = False, channels=3)\n",
    "    img = tf.cast(img, tf.float32)\n",
    "    img = (img/127.5) - 1\n",
    "    img = tf.image.resize(img, (IMG_SIZE, IMG_SIZE))\n",
    "\n",
    "    return img"
   ]
  },
  {
   "cell_type": "code",
   "execution_count": 91,
   "metadata": {},
   "outputs": [],
   "source": [
    "test_batches = test_dataset.map(toInput)"
   ]
  },
  {
   "cell_type": "code",
   "execution_count": 92,
   "metadata": {},
   "outputs": [],
   "source": [
    "test_batches = test_batches.batch(BATCH_SIZE)"
   ]
  },
  {
   "cell_type": "code",
   "execution_count": 93,
   "metadata": {},
   "outputs": [],
   "source": [
    "predictions = model.predict(test_batches)"
   ]
  },
  {
   "cell_type": "code",
   "execution_count": 99,
   "metadata": {},
   "outputs": [],
   "source": [
    "import csv\n",
    "\n",
    "i = 0\n",
    "\n",
    "with open(\"submission.csv\", \"w\") as csvfile:\n",
    "    writer = csv.writer(csvfile, delimiter=\",\")\n",
    "    writer.writerow([\"image_name\", \"target\"])\n",
    "    for p in predictions:\n",
    "        prounded = f\"{p[0]:.9f}\"\n",
    "        writer.writerow([test_names[i], prounded])\n",
    "        i += 1"
   ]
  },
  {
   "cell_type": "code",
   "execution_count": null,
   "metadata": {},
   "outputs": [],
   "source": []
  }
 ],
 "metadata": {
  "kernelspec": {
   "display_name": "Python 3",
   "language": "python",
   "name": "python3"
  },
  "language_info": {
   "codemirror_mode": {
    "name": "ipython",
    "version": 3
   },
   "file_extension": ".py",
   "mimetype": "text/x-python",
   "name": "python",
   "nbconvert_exporter": "python",
   "pygments_lexer": "ipython3",
   "version": "3.6.9"
  }
 },
 "nbformat": 4,
 "nbformat_minor": 4
}
